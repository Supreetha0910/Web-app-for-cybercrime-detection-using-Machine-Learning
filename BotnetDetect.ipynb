{
  "nbformat": 4,
  "nbformat_minor": 0,
  "metadata": {
    "colab": {
      "name": "BD.ipynb",
      "provenance": [],
      "toc_visible": true
    },
    "kernelspec": {
      "name": "python3",
      "display_name": "Python 3"
    }
  },
  "cells": [
    {
      "cell_type": "code",
      "metadata": {
        "id": "Nc4kC5fJdx2x",
        "colab_type": "code",
        "colab": {
          "base_uri": "https://localhost:8080/",
          "height": 238
        },
        "outputId": "e5c7ab47-221f-4b66-aa61-b45439ed3f84"
      },
      "source": [
        "!wget --no-check-certificate https://mcfp.felk.cvut.cz/publicDatasets/CTU-13-Dataset/CTU-13-Dataset.tar.bz2"
      ],
      "execution_count": null,
      "outputs": [
        {
          "output_type": "stream",
          "text": [
            "--2020-06-16 12:25:12--  https://mcfp.felk.cvut.cz/publicDatasets/CTU-13-Dataset/CTU-13-Dataset.tar.bz2\n",
            "Resolving mcfp.felk.cvut.cz (mcfp.felk.cvut.cz)... 147.32.82.194\n",
            "Connecting to mcfp.felk.cvut.cz (mcfp.felk.cvut.cz)|147.32.82.194|:443... connected.\n",
            "WARNING: cannot verify mcfp.felk.cvut.cz's certificate, issued by ‘CN=TERENA SSL CA 3,O=TERENA,L=Amsterdam,ST=Noord-Holland,C=NL’:\n",
            "  Unable to locally verify the issuer's authority.\n",
            "HTTP request sent, awaiting response... 200 OK\n",
            "Length: 1997547391 (1.9G) [application/x-bzip2]\n",
            "Saving to: ‘CTU-13-Dataset.tar.bz2’\n",
            "\n",
            "CTU-13-Dataset.tar. 100%[===================>]   1.86G  10.0MB/s    in 3m 13s  \n",
            "\n",
            "2020-06-16 12:28:26 (9.86 MB/s) - ‘CTU-13-Dataset.tar.bz2’ saved [1997547391/1997547391]\n",
            "\n"
          ],
          "name": "stdout"
        }
      ]
    },
    {
      "cell_type": "markdown",
      "metadata": {
        "id": "l8GkaPl-f66x",
        "colab_type": "text"
      },
      "source": [
        "**Extract the downloaded tar.bz2 file by using the following command:**"
      ]
    },
    {
      "cell_type": "code",
      "metadata": {
        "id": "KGh_drJEd6Np",
        "colab_type": "code",
        "colab": {
          "base_uri": "https://localhost:8080/",
          "height": 1000
        },
        "outputId": "4a0baefb-3ef2-4a0c-847b-f99467f522df"
      },
      "source": [
        "!tar xvjf  CTU-13-Dataset.tar.bz2"
      ],
      "execution_count": null,
      "outputs": [
        {
          "output_type": "stream",
          "text": [
            "CTU-13-Dataset/\n",
            "CTU-13-Dataset/4/\n",
            "CTU-13-Dataset/4/botnet-capture-20110815-rbot-dos.pcap\n",
            "CTU-13-Dataset/4/capture20110815.binetflow\n",
            "CTU-13-Dataset/4/README\n",
            "CTU-13-Dataset/4/rbot.exe\n",
            "CTU-13-Dataset/1/\n",
            "CTU-13-Dataset/1/Neris.exe\n",
            "CTU-13-Dataset/1/README.html\n",
            "CTU-13-Dataset/1/capture20110810.binetflow\n",
            "CTU-13-Dataset/1/botnet-capture-20110810-neris.pcap\n",
            "CTU-13-Dataset/12/\n",
            "CTU-13-Dataset/12/botnet-capture-20110819-bot.pcap\n",
            "CTU-13-Dataset/12/capture20110819.binetflow\n",
            "CTU-13-Dataset/12/README\n",
            "CTU-13-Dataset/12/3d3d%3F%3F%3F%3F.xls.exe\n",
            "CTU-13-Dataset/7/\n",
            "CTU-13-Dataset/7/sogou_explorer_silent_1.4.0.418_2136.exe\n",
            "CTU-13-Dataset/7/botnet-capture-20110816-sogou.pcap\n",
            "CTU-13-Dataset/7/capture20110816-2.binetflow\n",
            "CTU-13-Dataset/7/README\n",
            "CTU-13-Dataset/8/\n",
            "CTU-13-Dataset/8/capture20110816-3.binetflow\n",
            "CTU-13-Dataset/8/QvodSetuPuls23.exe\n",
            "CTU-13-Dataset/8/botnet-capture-20110816-qvod.pcap\n",
            "CTU-13-Dataset/8/README\n",
            "CTU-13-Dataset/5/\n",
            "CTU-13-Dataset/5/botnet-capture-20110815-fast-flux.pcap\n",
            "CTU-13-Dataset/5/e4f816462c4fc84bb250e2b1d295bf23_85f9a5247afbe51e64794193f1dd72eb_unpacked.exe\n",
            "CTU-13-Dataset/5/README\n",
            "CTU-13-Dataset/5/capture20110815-2.binetflow\n",
            "CTU-13-Dataset/10/\n",
            "CTU-13-Dataset/10/README\n",
            "CTU-13-Dataset/10/capture20110818.binetflow\n",
            "CTU-13-Dataset/10/rbot.exe\n",
            "CTU-13-Dataset/10/botnet-capture-20110818-bot.pcap\n",
            "CTU-13-Dataset/6/\n",
            "CTU-13-Dataset/6/botnet-capture-20110816-donbot.pcap\n",
            "CTU-13-Dataset/6/capture20110816.binetflow\n",
            "CTU-13-Dataset/6/README\n",
            "CTU-13-Dataset/6/svchosta.exe\n",
            "CTU-13-Dataset/9/\n",
            "CTU-13-Dataset/9/Neris.exe\n",
            "CTU-13-Dataset/9/botnet-capture-20110817-bot.pcap\n",
            "CTU-13-Dataset/9/README\n",
            "CTU-13-Dataset/9/capture20110817.binetflow\n",
            "CTU-13-Dataset/3/\n",
            "CTU-13-Dataset/3/capture20110812.binetflow\n",
            "CTU-13-Dataset/3/botnet-capture-20110812-rbot.pcap\n",
            "CTU-13-Dataset/3/README\n",
            "CTU-13-Dataset/3/rbot.exe\n",
            "CTU-13-Dataset/2/\n",
            "CTU-13-Dataset/2/Neris.exe\n",
            "CTU-13-Dataset/2/capture20110811.binetflow\n",
            "CTU-13-Dataset/2/botnet-capture-20110811-neris.pcap\n",
            "CTU-13-Dataset/2/README\n",
            "CTU-13-Dataset/13/\n",
            "CTU-13-Dataset/13/botnet-capture-20110815-fast-flux-2.pcap\n",
            "CTU-13-Dataset/13/e4f816462c4fc84bb250e2b1d295bf23_85f9a5247afbe51e64794193f1dd72eb_unpacked.exe\n",
            "CTU-13-Dataset/13/README\n",
            "CTU-13-Dataset/13/capture20110815-3.binetflow\n",
            "CTU-13-Dataset/11/\n",
            "CTU-13-Dataset/11/botnet-capture-20110818-bot-2.pcap\n",
            "CTU-13-Dataset/11/README\n",
            "CTU-13-Dataset/11/rbot.exe\n",
            "CTU-13-Dataset/11/capture20110818-2.binetflow\n"
          ],
          "name": "stdout"
        }
      ]
    },
    {
      "cell_type": "markdown",
      "metadata": {
        "id": "Ok4LjYfEff7_",
        "colab_type": "text"
      },
      "source": [
        "**Pandas** is a software library written for the Python programming language for data manipulation and analysis. In particular, it offers data structures and operations for **manipulating numerical tables and time series**"
      ]
    },
    {
      "cell_type": "code",
      "metadata": {
        "id": "PT5Uczi9fUWX",
        "colab_type": "code",
        "colab": {
          "base_uri": "https://localhost:8080/",
          "height": 626
        },
        "outputId": "db5bfdf0-6afb-4d43-e53d-cef3131fdfe9"
      },
      "source": [
        "import pandas as pd\n",
        "data = pd.read_csv(\"/content/CTU-13-Dataset/8/capture20110816-3.binetflow\")\n",
        "data"
      ],
      "execution_count": null,
      "outputs": [
        {
          "output_type": "execute_result",
          "data": {
            "text/html": [
              "<div>\n",
              "<style scoped>\n",
              "    .dataframe tbody tr th:only-of-type {\n",
              "        vertical-align: middle;\n",
              "    }\n",
              "\n",
              "    .dataframe tbody tr th {\n",
              "        vertical-align: top;\n",
              "    }\n",
              "\n",
              "    .dataframe thead th {\n",
              "        text-align: right;\n",
              "    }\n",
              "</style>\n",
              "<table border=\"1\" class=\"dataframe\">\n",
              "  <thead>\n",
              "    <tr style=\"text-align: right;\">\n",
              "      <th></th>\n",
              "      <th>StartTime</th>\n",
              "      <th>Dur</th>\n",
              "      <th>Proto</th>\n",
              "      <th>SrcAddr</th>\n",
              "      <th>Sport</th>\n",
              "      <th>Dir</th>\n",
              "      <th>DstAddr</th>\n",
              "      <th>Dport</th>\n",
              "      <th>State</th>\n",
              "      <th>sTos</th>\n",
              "      <th>dTos</th>\n",
              "      <th>TotPkts</th>\n",
              "      <th>TotBytes</th>\n",
              "      <th>SrcBytes</th>\n",
              "      <th>Label</th>\n",
              "    </tr>\n",
              "  </thead>\n",
              "  <tbody>\n",
              "    <tr>\n",
              "      <th>0</th>\n",
              "      <td>2011/08/16 14:23:17.316620</td>\n",
              "      <td>0.983988</td>\n",
              "      <td>tcp</td>\n",
              "      <td>147.32.3.51</td>\n",
              "      <td>4519</td>\n",
              "      <td>-&gt;</td>\n",
              "      <td>147.32.84.46</td>\n",
              "      <td>10010</td>\n",
              "      <td>S_RA</td>\n",
              "      <td>0.0</td>\n",
              "      <td>0.0</td>\n",
              "      <td>4</td>\n",
              "      <td>244</td>\n",
              "      <td>124</td>\n",
              "      <td>flow=Background-TCP-Attempt</td>\n",
              "    </tr>\n",
              "    <tr>\n",
              "      <th>1</th>\n",
              "      <td>2011/08/16 14:25:13.585599</td>\n",
              "      <td>0.909895</td>\n",
              "      <td>tcp</td>\n",
              "      <td>147.32.84.59</td>\n",
              "      <td>61591</td>\n",
              "      <td>-&gt;</td>\n",
              "      <td>199.59.149.200</td>\n",
              "      <td>443</td>\n",
              "      <td>SR_A</td>\n",
              "      <td>0.0</td>\n",
              "      <td>0.0</td>\n",
              "      <td>3</td>\n",
              "      <td>204</td>\n",
              "      <td>138</td>\n",
              "      <td>flow=Background-Established-cmpgw-CVUT</td>\n",
              "    </tr>\n",
              "    <tr>\n",
              "      <th>2</th>\n",
              "      <td>2011/08/16 14:26:27.614070</td>\n",
              "      <td>3.067423</td>\n",
              "      <td>tcp</td>\n",
              "      <td>217.129.160.86</td>\n",
              "      <td>2228</td>\n",
              "      <td>-&gt;</td>\n",
              "      <td>147.32.84.229</td>\n",
              "      <td>13363</td>\n",
              "      <td>SR_SA</td>\n",
              "      <td>0.0</td>\n",
              "      <td>0.0</td>\n",
              "      <td>3</td>\n",
              "      <td>184</td>\n",
              "      <td>122</td>\n",
              "      <td>flow=Background-TCP-Established</td>\n",
              "    </tr>\n",
              "    <tr>\n",
              "      <th>3</th>\n",
              "      <td>2011/08/16 14:26:29.245037</td>\n",
              "      <td>2.856905</td>\n",
              "      <td>tcp</td>\n",
              "      <td>217.129.160.86</td>\n",
              "      <td>2231</td>\n",
              "      <td>-&gt;</td>\n",
              "      <td>147.32.84.229</td>\n",
              "      <td>443</td>\n",
              "      <td>SR_SA</td>\n",
              "      <td>0.0</td>\n",
              "      <td>0.0</td>\n",
              "      <td>3</td>\n",
              "      <td>184</td>\n",
              "      <td>122</td>\n",
              "      <td>flow=Background-TCP-Established</td>\n",
              "    </tr>\n",
              "    <tr>\n",
              "      <th>4</th>\n",
              "      <td>2011/08/16 14:26:30.868242</td>\n",
              "      <td>2.985940</td>\n",
              "      <td>tcp</td>\n",
              "      <td>217.129.160.86</td>\n",
              "      <td>2234</td>\n",
              "      <td>-&gt;</td>\n",
              "      <td>147.32.84.229</td>\n",
              "      <td>80</td>\n",
              "      <td>SR_SA</td>\n",
              "      <td>0.0</td>\n",
              "      <td>0.0</td>\n",
              "      <td>3</td>\n",
              "      <td>184</td>\n",
              "      <td>122</td>\n",
              "      <td>flow=Background-TCP-Established</td>\n",
              "    </tr>\n",
              "    <tr>\n",
              "      <th>...</th>\n",
              "      <td>...</td>\n",
              "      <td>...</td>\n",
              "      <td>...</td>\n",
              "      <td>...</td>\n",
              "      <td>...</td>\n",
              "      <td>...</td>\n",
              "      <td>...</td>\n",
              "      <td>...</td>\n",
              "      <td>...</td>\n",
              "      <td>...</td>\n",
              "      <td>...</td>\n",
              "      <td>...</td>\n",
              "      <td>...</td>\n",
              "      <td>...</td>\n",
              "      <td>...</td>\n",
              "    </tr>\n",
              "    <tr>\n",
              "      <th>2954225</th>\n",
              "      <td>2011/08/17 09:47:11.104593</td>\n",
              "      <td>0.177685</td>\n",
              "      <td>udp</td>\n",
              "      <td>109.87.182.34</td>\n",
              "      <td>7116</td>\n",
              "      <td>&lt;-&gt;</td>\n",
              "      <td>147.32.85.84</td>\n",
              "      <td>13716</td>\n",
              "      <td>CON</td>\n",
              "      <td>0.0</td>\n",
              "      <td>0.0</td>\n",
              "      <td>4</td>\n",
              "      <td>256</td>\n",
              "      <td>120</td>\n",
              "      <td>flow=Background-UDP-Established</td>\n",
              "    </tr>\n",
              "    <tr>\n",
              "      <th>2954226</th>\n",
              "      <td>2011/08/17 09:47:11.124201</td>\n",
              "      <td>0.000630</td>\n",
              "      <td>udp</td>\n",
              "      <td>72.225.154.183</td>\n",
              "      <td>35027</td>\n",
              "      <td>&lt;-&gt;</td>\n",
              "      <td>147.32.84.229</td>\n",
              "      <td>13363</td>\n",
              "      <td>CON</td>\n",
              "      <td>0.0</td>\n",
              "      <td>0.0</td>\n",
              "      <td>2</td>\n",
              "      <td>659</td>\n",
              "      <td>80</td>\n",
              "      <td>flow=Background-UDP-Established</td>\n",
              "    </tr>\n",
              "    <tr>\n",
              "      <th>2954227</th>\n",
              "      <td>2011/08/17 09:47:11.165013</td>\n",
              "      <td>0.047071</td>\n",
              "      <td>udp</td>\n",
              "      <td>147.32.84.229</td>\n",
              "      <td>13363</td>\n",
              "      <td>&lt;-&gt;</td>\n",
              "      <td>86.188.207.200</td>\n",
              "      <td>35910</td>\n",
              "      <td>CON</td>\n",
              "      <td>0.0</td>\n",
              "      <td>0.0</td>\n",
              "      <td>2</td>\n",
              "      <td>551</td>\n",
              "      <td>77</td>\n",
              "      <td>flow=Background-UDP-Established</td>\n",
              "    </tr>\n",
              "    <tr>\n",
              "      <th>2954228</th>\n",
              "      <td>2011/08/17 09:47:11.206812</td>\n",
              "      <td>0.000491</td>\n",
              "      <td>udp</td>\n",
              "      <td>82.3.163.36</td>\n",
              "      <td>36771</td>\n",
              "      <td>&lt;-&gt;</td>\n",
              "      <td>147.32.84.229</td>\n",
              "      <td>13363</td>\n",
              "      <td>CON</td>\n",
              "      <td>0.0</td>\n",
              "      <td>0.0</td>\n",
              "      <td>2</td>\n",
              "      <td>137</td>\n",
              "      <td>77</td>\n",
              "      <td>flow=Background-UDP-Established</td>\n",
              "    </tr>\n",
              "    <tr>\n",
              "      <th>2954229</th>\n",
              "      <td>2011/08/17 09:47:11.231725</td>\n",
              "      <td>0.000463</td>\n",
              "      <td>udp</td>\n",
              "      <td>76.21.111.166</td>\n",
              "      <td>63026</td>\n",
              "      <td>&lt;-&gt;</td>\n",
              "      <td>147.32.84.229</td>\n",
              "      <td>13363</td>\n",
              "      <td>CON</td>\n",
              "      <td>0.0</td>\n",
              "      <td>0.0</td>\n",
              "      <td>2</td>\n",
              "      <td>133</td>\n",
              "      <td>73</td>\n",
              "      <td>flow=Background-UDP-Established</td>\n",
              "    </tr>\n",
              "  </tbody>\n",
              "</table>\n",
              "<p>2954230 rows × 15 columns</p>\n",
              "</div>"
            ],
            "text/plain": [
              "                          StartTime  ...                                   Label\n",
              "0        2011/08/16 14:23:17.316620  ...             flow=Background-TCP-Attempt\n",
              "1        2011/08/16 14:25:13.585599  ...  flow=Background-Established-cmpgw-CVUT\n",
              "2        2011/08/16 14:26:27.614070  ...         flow=Background-TCP-Established\n",
              "3        2011/08/16 14:26:29.245037  ...         flow=Background-TCP-Established\n",
              "4        2011/08/16 14:26:30.868242  ...         flow=Background-TCP-Established\n",
              "...                             ...  ...                                     ...\n",
              "2954225  2011/08/17 09:47:11.104593  ...         flow=Background-UDP-Established\n",
              "2954226  2011/08/17 09:47:11.124201  ...         flow=Background-UDP-Established\n",
              "2954227  2011/08/17 09:47:11.165013  ...         flow=Background-UDP-Established\n",
              "2954228  2011/08/17 09:47:11.206812  ...         flow=Background-UDP-Established\n",
              "2954229  2011/08/17 09:47:11.231725  ...         flow=Background-UDP-Established\n",
              "\n",
              "[2954230 rows x 15 columns]"
            ]
          },
          "metadata": {
            "tags": []
          },
          "execution_count": 3
        }
      ]
    },
    {
      "cell_type": "code",
      "metadata": {
        "id": "SWjlkpUraN5L",
        "colab_type": "code",
        "colab": {}
      },
      "source": [
        "data['Label'] = data.Label.str.contains(\"Botnet\")"
      ],
      "execution_count": null,
      "outputs": []
    },
    {
      "cell_type": "code",
      "metadata": {
        "id": "8-iuJt7cgHts",
        "colab_type": "code",
        "colab": {
          "base_uri": "https://localhost:8080/",
          "height": 609
        },
        "outputId": "6103a22a-a5e2-4bf0-c9ba-db3c86a212aa"
      },
      "source": [
        "import pandas as pd\n",
        "data = pd.read_csv(\"/content/CTU-13-Dataset/9/capture20110817.binetflow\")\n",
        "#data['Label'] = data.Label.str.contains(\"Botnet\")\n",
        "data"
      ],
      "execution_count": null,
      "outputs": [
        {
          "output_type": "execute_result",
          "data": {
            "text/html": [
              "<div>\n",
              "<style scoped>\n",
              "    .dataframe tbody tr th:only-of-type {\n",
              "        vertical-align: middle;\n",
              "    }\n",
              "\n",
              "    .dataframe tbody tr th {\n",
              "        vertical-align: top;\n",
              "    }\n",
              "\n",
              "    .dataframe thead th {\n",
              "        text-align: right;\n",
              "    }\n",
              "</style>\n",
              "<table border=\"1\" class=\"dataframe\">\n",
              "  <thead>\n",
              "    <tr style=\"text-align: right;\">\n",
              "      <th></th>\n",
              "      <th>StartTime</th>\n",
              "      <th>Dur</th>\n",
              "      <th>Proto</th>\n",
              "      <th>SrcAddr</th>\n",
              "      <th>Sport</th>\n",
              "      <th>Dir</th>\n",
              "      <th>DstAddr</th>\n",
              "      <th>Dport</th>\n",
              "      <th>State</th>\n",
              "      <th>sTos</th>\n",
              "      <th>dTos</th>\n",
              "      <th>TotPkts</th>\n",
              "      <th>TotBytes</th>\n",
              "      <th>SrcBytes</th>\n",
              "      <th>Label</th>\n",
              "    </tr>\n",
              "  </thead>\n",
              "  <tbody>\n",
              "    <tr>\n",
              "      <th>0</th>\n",
              "      <td>2011/08/17 12:01:12.984851</td>\n",
              "      <td>0.976560</td>\n",
              "      <td>tcp</td>\n",
              "      <td>93.45.141.223</td>\n",
              "      <td>2254</td>\n",
              "      <td>-&gt;</td>\n",
              "      <td>147.32.84.118</td>\n",
              "      <td>6881</td>\n",
              "      <td>S_RA</td>\n",
              "      <td>0.0</td>\n",
              "      <td>0.0</td>\n",
              "      <td>4</td>\n",
              "      <td>244</td>\n",
              "      <td>124</td>\n",
              "      <td>False</td>\n",
              "    </tr>\n",
              "    <tr>\n",
              "      <th>1</th>\n",
              "      <td>2011/08/17 12:01:15.616709</td>\n",
              "      <td>0.950668</td>\n",
              "      <td>tcp</td>\n",
              "      <td>84.16.60.37</td>\n",
              "      <td>64136</td>\n",
              "      <td>-&gt;</td>\n",
              "      <td>147.32.84.118</td>\n",
              "      <td>6881</td>\n",
              "      <td>S_RA</td>\n",
              "      <td>0.0</td>\n",
              "      <td>0.0</td>\n",
              "      <td>4</td>\n",
              "      <td>244</td>\n",
              "      <td>124</td>\n",
              "      <td>False</td>\n",
              "    </tr>\n",
              "    <tr>\n",
              "      <th>2</th>\n",
              "      <td>2011/08/17 12:01:23.209772</td>\n",
              "      <td>1.006908</td>\n",
              "      <td>tcp</td>\n",
              "      <td>94.44.197.227</td>\n",
              "      <td>3844</td>\n",
              "      <td>-&gt;</td>\n",
              "      <td>147.32.84.118</td>\n",
              "      <td>6881</td>\n",
              "      <td>S_RA</td>\n",
              "      <td>0.0</td>\n",
              "      <td>0.0</td>\n",
              "      <td>4</td>\n",
              "      <td>276</td>\n",
              "      <td>156</td>\n",
              "      <td>False</td>\n",
              "    </tr>\n",
              "    <tr>\n",
              "      <th>3</th>\n",
              "      <td>2011/08/17 12:01:24.216680</td>\n",
              "      <td>1.000400</td>\n",
              "      <td>tcp</td>\n",
              "      <td>94.44.197.227</td>\n",
              "      <td>3844</td>\n",
              "      <td>-&gt;</td>\n",
              "      <td>147.32.84.118</td>\n",
              "      <td>6881</td>\n",
              "      <td>S_RA</td>\n",
              "      <td>0.0</td>\n",
              "      <td>0.0</td>\n",
              "      <td>4</td>\n",
              "      <td>276</td>\n",
              "      <td>156</td>\n",
              "      <td>False</td>\n",
              "    </tr>\n",
              "    <tr>\n",
              "      <th>4</th>\n",
              "      <td>2011/08/17 12:03:27.216922</td>\n",
              "      <td>1.093291</td>\n",
              "      <td>tcp</td>\n",
              "      <td>147.32.3.51</td>\n",
              "      <td>1656</td>\n",
              "      <td>-&gt;</td>\n",
              "      <td>147.32.87.22</td>\n",
              "      <td>10010</td>\n",
              "      <td>S_RA</td>\n",
              "      <td>0.0</td>\n",
              "      <td>0.0</td>\n",
              "      <td>4</td>\n",
              "      <td>244</td>\n",
              "      <td>124</td>\n",
              "      <td>False</td>\n",
              "    </tr>\n",
              "    <tr>\n",
              "      <th>...</th>\n",
              "      <td>...</td>\n",
              "      <td>...</td>\n",
              "      <td>...</td>\n",
              "      <td>...</td>\n",
              "      <td>...</td>\n",
              "      <td>...</td>\n",
              "      <td>...</td>\n",
              "      <td>...</td>\n",
              "      <td>...</td>\n",
              "      <td>...</td>\n",
              "      <td>...</td>\n",
              "      <td>...</td>\n",
              "      <td>...</td>\n",
              "      <td>...</td>\n",
              "      <td>...</td>\n",
              "    </tr>\n",
              "    <tr>\n",
              "      <th>2087503</th>\n",
              "      <td>2011/08/17 17:12:13.795564</td>\n",
              "      <td>0.000325</td>\n",
              "      <td>udp</td>\n",
              "      <td>147.32.84.59</td>\n",
              "      <td>54880</td>\n",
              "      <td>&lt;-&gt;</td>\n",
              "      <td>147.32.80.9</td>\n",
              "      <td>53</td>\n",
              "      <td>CON</td>\n",
              "      <td>0.0</td>\n",
              "      <td>0.0</td>\n",
              "      <td>2</td>\n",
              "      <td>211</td>\n",
              "      <td>74</td>\n",
              "      <td>False</td>\n",
              "    </tr>\n",
              "    <tr>\n",
              "      <th>2087504</th>\n",
              "      <td>2011/08/17 17:12:13.828796</td>\n",
              "      <td>0.000466</td>\n",
              "      <td>udp</td>\n",
              "      <td>147.32.86.20</td>\n",
              "      <td>53659</td>\n",
              "      <td>&lt;-&gt;</td>\n",
              "      <td>147.32.80.9</td>\n",
              "      <td>53</td>\n",
              "      <td>CON</td>\n",
              "      <td>0.0</td>\n",
              "      <td>0.0</td>\n",
              "      <td>2</td>\n",
              "      <td>263</td>\n",
              "      <td>85</td>\n",
              "      <td>False</td>\n",
              "    </tr>\n",
              "    <tr>\n",
              "      <th>2087505</th>\n",
              "      <td>2011/08/17 17:12:13.829522</td>\n",
              "      <td>0.077026</td>\n",
              "      <td>tcp</td>\n",
              "      <td>147.32.86.20</td>\n",
              "      <td>3499</td>\n",
              "      <td>-&gt;</td>\n",
              "      <td>188.138.84.239</td>\n",
              "      <td>80</td>\n",
              "      <td>SPA_SA</td>\n",
              "      <td>0.0</td>\n",
              "      <td>0.0</td>\n",
              "      <td>10</td>\n",
              "      <td>3641</td>\n",
              "      <td>431</td>\n",
              "      <td>False</td>\n",
              "    </tr>\n",
              "    <tr>\n",
              "      <th>2087506</th>\n",
              "      <td>2011/08/17 17:12:13.843411</td>\n",
              "      <td>0.000000</td>\n",
              "      <td>udp</td>\n",
              "      <td>87.121.84.142</td>\n",
              "      <td>23139</td>\n",
              "      <td>-&gt;</td>\n",
              "      <td>147.32.86.165</td>\n",
              "      <td>12114</td>\n",
              "      <td>INT</td>\n",
              "      <td>0.0</td>\n",
              "      <td>NaN</td>\n",
              "      <td>1</td>\n",
              "      <td>74</td>\n",
              "      <td>74</td>\n",
              "      <td>False</td>\n",
              "    </tr>\n",
              "    <tr>\n",
              "      <th>2087507</th>\n",
              "      <td>2011/08/17 17:12:13.867435</td>\n",
              "      <td>0.000000</td>\n",
              "      <td>tcp</td>\n",
              "      <td>151.76.68.235</td>\n",
              "      <td>10000</td>\n",
              "      <td>-&gt;</td>\n",
              "      <td>147.32.86.165</td>\n",
              "      <td>12114</td>\n",
              "      <td>S_</td>\n",
              "      <td>0.0</td>\n",
              "      <td>NaN</td>\n",
              "      <td>1</td>\n",
              "      <td>66</td>\n",
              "      <td>66</td>\n",
              "      <td>False</td>\n",
              "    </tr>\n",
              "  </tbody>\n",
              "</table>\n",
              "<p>2087508 rows × 15 columns</p>\n",
              "</div>"
            ],
            "text/plain": [
              "                          StartTime       Dur Proto  ... TotBytes SrcBytes  Label\n",
              "0        2011/08/17 12:01:12.984851  0.976560   tcp  ...      244      124  False\n",
              "1        2011/08/17 12:01:15.616709  0.950668   tcp  ...      244      124  False\n",
              "2        2011/08/17 12:01:23.209772  1.006908   tcp  ...      276      156  False\n",
              "3        2011/08/17 12:01:24.216680  1.000400   tcp  ...      276      156  False\n",
              "4        2011/08/17 12:03:27.216922  1.093291   tcp  ...      244      124  False\n",
              "...                             ...       ...   ...  ...      ...      ...    ...\n",
              "2087503  2011/08/17 17:12:13.795564  0.000325   udp  ...      211       74  False\n",
              "2087504  2011/08/17 17:12:13.828796  0.000466   udp  ...      263       85  False\n",
              "2087505  2011/08/17 17:12:13.829522  0.077026   tcp  ...     3641      431  False\n",
              "2087506  2011/08/17 17:12:13.843411  0.000000   udp  ...       74       74  False\n",
              "2087507  2011/08/17 17:12:13.867435  0.000000   tcp  ...       66       66  False\n",
              "\n",
              "[2087508 rows x 15 columns]"
            ]
          },
          "metadata": {
            "tags": []
          },
          "execution_count": 31
        }
      ]
    },
    {
      "cell_type": "code",
      "metadata": {
        "id": "Z7aH2Olqaghq",
        "colab_type": "code",
        "colab": {
          "base_uri": "https://localhost:8080/",
          "height": 85
        },
        "outputId": "049d2d47-595b-4aeb-f1dc-40dedb5eeb5f"
      },
      "source": [
        "data.columns"
      ],
      "execution_count": null,
      "outputs": [
        {
          "output_type": "execute_result",
          "data": {
            "text/plain": [
              "Index(['StartTime', 'Dur', 'Proto', 'SrcAddr', 'Sport', 'Dir', 'DstAddr',\n",
              "       'Dport', 'State', 'sTos', 'dTos', 'TotPkts', 'TotBytes', 'SrcBytes',\n",
              "       'Label'],\n",
              "      dtype='object')"
            ]
          },
          "metadata": {
            "tags": []
          },
          "execution_count": 39
        }
      ]
    },
    {
      "cell_type": "code",
      "metadata": {
        "id": "YNgpaoDvaZ75",
        "colab_type": "code",
        "colab": {
          "base_uri": "https://localhost:8080/",
          "height": 391
        },
        "outputId": "e57a773c-d9bf-4637-f421-76807d315a1e"
      },
      "source": [
        "data.info()"
      ],
      "execution_count": null,
      "outputs": [
        {
          "output_type": "stream",
          "text": [
            "<class 'pandas.core.frame.DataFrame'>\n",
            "RangeIndex: 2087508 entries, 0 to 2087507\n",
            "Data columns (total 15 columns):\n",
            " #   Column     Dtype  \n",
            "---  ------     -----  \n",
            " 0   StartTime  object \n",
            " 1   Dur        float64\n",
            " 2   Proto      object \n",
            " 3   SrcAddr    object \n",
            " 4   Sport      object \n",
            " 5   Dir        object \n",
            " 6   DstAddr    object \n",
            " 7   Dport      object \n",
            " 8   State      object \n",
            " 9   sTos       float64\n",
            " 10  dTos       float64\n",
            " 11  TotPkts    int64  \n",
            " 12  TotBytes   int64  \n",
            " 13  SrcBytes   int64  \n",
            " 14  Label      object \n",
            "dtypes: float64(3), int64(3), object(9)\n",
            "memory usage: 238.9+ MB\n"
          ],
          "name": "stdout"
        }
      ]
    },
    {
      "cell_type": "markdown",
      "metadata": {
        "id": "_f7SKXFOa53J",
        "colab_type": "text"
      },
      "source": [
        "**Before training the model, we need to build some scripts to prepare the data**"
      ]
    },
    {
      "cell_type": "code",
      "metadata": {
        "id": "_6oW8cnWabeI",
        "colab_type": "code",
        "colab": {}
      },
      "source": [
        "class Prepare(threading.Thread):\n",
        "    \n",
        "    def __init__(self, X, Y, XT, YT, accLabel=None):\n",
        "        threading.Thread.__init__(self)\n",
        "        self.X = X\n",
        "        self.Y = Y\n",
        "        self.XT=XT\n",
        "        self.YT=YT\n",
        "        self.accLabel= accLabel\n",
        "\n",
        "    def run(self):\n",
        "        X = np.zeros(self.X.shape)\n",
        "        Y = np.zeros(self.Y.shape)\n",
        "        XT = np.zeros(self.XT.shape)\n",
        "        YT = np.zeros(self.YT.shape)\n",
        "        np.copyto(X, self.X)\n",
        "        np.copyto(Y, self.Y)\n",
        "        np.copyto(XT, self.XT)\n",
        "        np.copyto(YT, self.YT)\n",
        "        for i in range(9):\n",
        "            X[:, i] = (X[:, i] - X[:, i].mean()) / (X[:, i].std())  #data Standardization\n",
        "#standardization rescales data to have a mean of 0 and standard of 1(1unit variance) --- X(changed)=[X-mean]/SD\n",
        "#Standardized values are useful for tracking data that isn't easy to compare otherwise.\n",
        "        for i in range(9):\n",
        "            XT[:, i] = (XT[:, i] - XT[:, i].mean()) / (XT[:, i].std())"
      ],
      "execution_count": null,
      "outputs": []
    },
    {
      "cell_type": "markdown",
      "metadata": {
        "id": "PCmelIzQjDl7",
        "colab_type": "text"
      },
      "source": [
        "LoadData.py directly in your projects to load data from .binetflow files and generate a pickle file."
      ]
    },
    {
      "cell_type": "markdown",
      "metadata": {
        "id": "w9-udXAgjKa9",
        "colab_type": "text"
      },
      "source": [
        "Socket programming - way of connecting 2 nodes on a network. One socket(node) listens to a particular port at an IP, while the other reaches out to other to form a connection. Server---forms the listener socket while client reaches out to the screen.\n",
        "-------------------------------------------------------------------------------\n",
        "The pickle module implements binary protocols for serializing and de-serializing a Python object structure. “Pickling” is the process whereby a Python object hierarchy is converted into a byte stream, and “unpickling” is the inverse operation, whereby a byte stream (from a binary file or bytes-like object) is converted back into an object hierarchy.\n",
        "For fast loading\n",
        "-------------------------------------------------------------------------------"
      ]
    },
    {
      "cell_type": "code",
      "metadata": {
        "id": "su5q4Aakafm9",
        "colab_type": "code",
        "colab": {}
      },
      "source": [
        "import socket, struct, sys\n",
        "import numpy as np\n",
        "import pickle\n",
        "\n",
        "def loaddata(fileName):\n",
        "    \n",
        "\n",
        "    file = open(fileName, 'r')\n",
        "\n",
        "    xdata = []\n",
        "    ydata = []\n",
        "    xdataT = []\n",
        "    ydataT = []\n",
        "    flag=0\n",
        "    count1=0\n",
        "    count2=0\n",
        "    count3=0\n",
        "    count4=0\n",
        "\n",
        "    #dicts to convert protocols and state to integers ---- UDP (User Datagram program) TCP(Transmission control Protocol)\n",
        "    protoDict = {'arp': 5, 'unas': 13, 'udp': 1, 'rtcp': 7, 'pim': 3, 'udt': 11, 'esp': 12, 'tcp' : 0, 'rarp': 14, 'ipv6-icmp': 9, 'rtp': 2, 'ipv6': 10, 'ipx/spx': 6, 'icmp': 4, 'igmp' : 8}\n",
        "\n",
        "    stateDict = {'': 1, 'FSR_SA': 30, '_FSA': 296, 'FSRPA_FSA': 77, 'SPA_SA': 31, 'FSA_SRA': 1181, 'FPA_R': 46, 'SPAC_SPA': 37, 'FPAC_FPA': 2, '_R': 1, 'FPA_FPA': 784, 'FPA_FA': 66, '_FSRPA': 1, 'URFIL': 431, 'FRPA_PA': 5, '_RA': 2, 'SA_A': 2, 'SA_RA': 125, 'FA_FPA': 17, 'FA_RA': 14, 'PA_FPA': 48, 'URHPRO': 380, 'FSRPA_SRA': 8, 'R_':541, 'DCE': 5, 'SA_R': 1674, 'SA_': 4295, 'RPA_FSPA': 4, 'FA_A': 17, 'FSPA_FSPAC': 7, 'RA_': 2230, 'FSRPA_SA': 255, 'NNS': 47, 'SRPA_FSPAC': 1, 'RPA_FPA': 42, 'FRA_R': 10, 'FSPAC_FSPA': 86, 'RPA_R': 3, '_FPA': 5, 'SREC_SA': 1, 'URN': 339, 'URO': 6, 'URH': 3593, 'MRQ': 4, 'SR_FSA': 1, 'SPA_SRPAC': 1, 'URP': 23598, 'RPA_A': 1, 'FRA_': 351, 'FSPA_SRA': 91, 'FSA_FSA': 26138, 'PA_': 149, 'FSRA_FSPA': 798, 'FSPAC_FSA': 11, 'SRPA_SRPA': 176, 'SA_SA': 33, 'FSPAC_SPA': 1, 'SRA_RA': 78, 'RPAC_PA': 1, 'FRPA_R': 1, 'SPA_SPA': 2989, 'PA_RA': 3, 'SPA_SRPA': 4185, 'RA_FA': 8, 'FSPAC_SRPA': 1, 'SPA_FSA': 1, 'FPA_FSRPA': 3, 'SRPA_FSA': 379, 'FPA_FRA': 7, 'S_SRA': 81, 'FSA_SA': 6, 'State': 1, 'SRA_SRA': 38, 'S_FA': 2, 'FSRPAC_SPA': 7, 'SRPA_FSPA': 35460, 'FPA_A': 1, 'FSA_FPA': 3, 'FRPA_RA': 1, 'FSAU_SA': 1, 'FSPA_FSRPA': 10560, 'SA_FSA': 358, 'FA_FRA': 8, 'FSRPA_SPA': 2807, 'FSRPA_FSRA': 32, 'FRA_FPA': 6, 'FSRA_FSRA': 3, 'SPAC_FSRPA': 1, 'FS_': 40, 'FSPA_FSRA': 798, 'FSAU_FSA': 13, 'A_R': 36, 'FSRPAE_FSPA': 1, 'SA_FSRA': 4, 'PA_PAC': 3, 'FSA_FSRA': 279, 'A_A': 68, 'REQ': 892, 'FA_R': 124, 'FSRPA_SRPA': 97, 'FSPAC_FSRA':20, 'FRPA_RPA': 7, 'FSRA_SPA': 8, 'INT': 85813, 'FRPA_FRPA': 6, 'SRPAC_FSPA': 4, 'SPA_SRA': 808, 'SA_SRPA': 1, 'SPA_FSPA': 2118, 'FSRAU_FSA': 2, 'RPA_PA': 171,'_SPA': 268, 'A_PA': 47, 'SPA_FSRA': 416, 'FSPA_FSRPAC': 2, 'PAC_PA': 5, 'SRPA_SPA': 9646, 'SRPA_FSRA': 13, 'FPA_FRPA': 49, 'SRA_SPA': 10, 'SA_SRA': 838, 'PA_PA': 5979, 'FPA_RPA': 27, 'SR_RA': 10, 'RED': 4579, 'CON': 2190507, 'FSRPA_FSPA':13547, 'FSPA_FPA': 4, 'FAU_R': 2, 'ECO': 2877, 'FRPA_FPA': 72, 'FSAU_SRA': 1, 'FRA_FA': 8, 'FSPA_FSPA': 216341, 'SEC_RA': 19, 'ECR': 3316, 'SPAC_FSPA': 12, 'SR_A': 34, 'SEC_': 5, 'FSAU_FSRA': 3, 'FSRA_FSRPA': 11, 'SRC': 13, 'A_RPA': 1, 'FRA_PA': 3, 'A_RPE': 1, 'RPA_FRPA': 20, '_SRA': 74, 'SRA_FSPA': 293, 'FPA_': 118, 'FSRPAC_FSRPA': 2, '_FA': 1, 'DNP': 1, 'FSRPA_FSRPA': 379, 'FSRA_SRA': 14, '_FRPA': 1, 'SR_': 59, 'FSPA_SPA': 517, 'FRPA_FSPA': 1, 'PA_A': 159, 'PA_SRA': 1, 'FPA_RA': 5, 'S_': 68710, 'SA_FSRPA': 4, 'FSA_FSRPA': 1, 'SA_SPA': 4, 'RA_A': 5, '_SRPA': 9, 'S_FRA': 156, 'FA_FRPA': 1, 'PA_R': 72, 'FSRPAEC_FSPA': 1, '_PA': 7, 'RA_S': 1, 'SA_FR': 2, 'RA_FPA': 6, 'RPA_': 5, '_FSPA': 2395, 'FSA_FSPA': 230, 'UNK': 2, 'A_RA': 9, 'FRPA_': 6, 'URF': 10, 'FS_SA': 97, 'SPAC_SRPA': 8, 'S_RPA': 32, 'SRPA_SRA': 69, 'SA_RPA': 30, 'PA_FRA': 4, 'FSRA_SA': 49, 'FSRA_FSA': 206, 'PAC_RPA': 1, 'SRA_': 18, 'FA_': 451, 'S_SA': 6917, 'FSPA_SRPA': 427, 'TXD': 542,'SRA_SA': 1514, 'FSPA_FA': 1, 'FPA_FSPA': 10, 'RA_PA': 3, 'SRA_FSA': 709, 'SRPA_SPAC': 3, 'FSPAC_FSRPA': 10, 'A_': 191, 'URNPRO': 2, 'PA_RPA': 81, 'FSPAC_SRA':1, 'SRPA_FSRPA': 3054, 'SPA_': 1, 'FA_FA': 259, 'FSPA_SA': 75, 'SR_SRA': 1, 'FSA_': 2, 'SRPA_SA': 406, 'SR_SA': 3119, 'FRPA_FA': 1, 'PA_FRPA': 13, 'S_R': 34, 'FSPAEC_FSPAE': 3, 'S_RA': 61105, 'FSPA_FSA': 5326, '_SA': 20, 'SA_FSPA': 15, 'SRPAC_SPA': 8, 'FPA_PA': 19, 'FSRPAE_FSA': 1, 'S_A': 1, 'RPA_RPA': 3, 'NRS': 6, 'RSP': 115, 'SPA_FSRPA': 1144, 'FSRPAC_FSPA': 139}\n",
        "\n",
        "    file.readline()\n",
        "\n",
        "    for line in file:\n",
        "        sd = line[:-1].split(',') ##Each line ends with the newline-symbol. #\n",
        "                                  #That's why you cut away the last symbol with line[:-1].\n",
        "                ##The numbers are separated by commas, so you take this line and cut/split it at each comma with line[:-1].split(',').\n",
        "        ##features that are being considered --- 10\n",
        "        dur, proto, Sport, Dport, Sip, Dip, totP, totB, label, state = sd[1], sd[2], sd[4], sd[7], sd[3], sd[6], sd[-4], sd[-3], sd[-1], sd[8]\n",
        "        try:\n",
        "            Sip = socket.inet_aton(Sip)         ##one socket node listens on a particular port at an IP---Source IP\n",
        "            Sip = struct.unpack(\"!L\", Sip)[0]  \n",
        "            #struct -- This can be used in handling binary data stored in files or from network connections, among other sources\n",
        "            #By default, the result of packing a given python struct includes pad bytes in order to maintain proper alignment for the python types involved; \n",
        "            #similarly, alignment is taken into account when unpacking\n",
        "        except:\n",
        "            continue\n",
        "        try:\n",
        "            Dip = socket.inet_aton(Dip)         ##one socket node listens on a particular port at an IP---Destination IP\n",
        "            Dip = struct.unpack(\"!L\", Dip)[0]   ## unwrapping the struct \n",
        "        except:\n",
        "            continue\n",
        "        if Sport=='': continue\n",
        "        if Dport=='': continue\n",
        "        #back, nor, bot\n",
        "        try:\n",
        "\n",
        "            if \"Background\" in label:\n",
        "                label=0\n",
        "\n",
        "            elif \"Normal\" in label:\n",
        "                label = 0\n",
        "\n",
        "            elif \"Botnet\" in label:\n",
        "                label = 1\n",
        "\n",
        "\n",
        "            if flag==0:\n",
        "                #Training Dataset\n",
        "                if label==0 and count1<20001:\n",
        "                    xdata.append([float(dur), protoDict[proto], int(Sport), int(Dport), Sip, Dip, int(totP), int(totB), stateDict[state]])\n",
        "                    ydata.append(label)\n",
        "                    count1+=1\n",
        "\n",
        "                elif label==1 and count2<20001:\n",
        "                    xdata.append([float(dur), protoDict[proto], int(Sport), int(Dport), Sip, Dip, int(totP), int(totB), stateDict[state]])\n",
        "                    ydata.append(label)\n",
        "                    count2+=1\n",
        "\n",
        "                elif count1>19999 and count2>19999:\n",
        "                    #print(\"HI\")\n",
        "                    flag=1\n",
        "\n",
        "            else:\n",
        "                #Test dataset\n",
        "                if label==0 and count3<5001:\n",
        "                    #print(\"H\")\n",
        "                    xdataT.append([float(dur), protoDict[proto], int(Sport), int(Dport), Sip, Dip, int(totP), int(totB), stateDict[state]])\n",
        "                    ydataT.append(label)\n",
        "                    count3+=1\n",
        "                elif label==1 and count4<5001:\n",
        "                    xdataT.append([float(dur), protoDict[proto], int(Sport), int(Dport), Sip, Dip, int(totP), int(totB), stateDict[state]])\n",
        "                    ydataT.append(label)\n",
        "                    count4 += 1\n",
        "                elif count3>4999 and count4>4999:\n",
        "                    break\n",
        "        except:\n",
        "            continue\n",
        "\n",
        "    #pickle the dataset for fast loading  ----- like in java---serializing object into bytes while storing\n",
        "    file = open('flowdata.pickle', 'wb')\n",
        "    pickle.dump([np.array(xdata), np.array(ydata), np.array(xdataT), np.array(ydataT)], file)\n",
        "\n",
        "    #return the training and the test dataset\n",
        "\n",
        "    return np.array(xdata), np.array(ydata), np.array(xdataT), np.array(ydataT)\n",
        "\n",
        "if __name__ == \"__main__\":\n",
        "    loaddata('/content/CTU-13-Dataset/9/capture20110817.binetflow')"
      ],
      "execution_count": null,
      "outputs": []
    },
    {
      "cell_type": "code",
      "metadata": {
        "id": "HNVQDzxRakeY",
        "colab_type": "code",
        "colab": {}
      },
      "source": [
        "import pickle\n",
        "file = open('flowdata.pickle', 'rb')  ------ like deserializing the bytes into object \n",
        "data  = pickle.load(file)\n",
        "#Select the data sections:\n",
        "Xdata = data[0]\n",
        "Ydata =  data[1]\n",
        "XdataT = data[2]\n",
        "YdataT = data[3]"
      ],
      "execution_count": null,
      "outputs": []
    },
    {
      "cell_type": "code",
      "metadata": {
        "id": "uLRKgGCFZzBf",
        "colab_type": "code",
        "colab": {
          "base_uri": "https://localhost:8080/",
          "height": 34
        },
        "outputId": "bd31d218-7474-4df6-f5f0-9b76fe9d7346"
      },
      "source": [
        "Xdata.shape"
      ],
      "execution_count": null,
      "outputs": [
        {
          "output_type": "execute_result",
          "data": {
            "text/plain": [
              "(40001, 9)"
            ]
          },
          "metadata": {
            "tags": []
          },
          "execution_count": 34
        }
      ]
    },
    {
      "cell_type": "code",
      "metadata": {
        "id": "3JLGjyLiZvJW",
        "colab_type": "code",
        "colab": {
          "base_uri": "https://localhost:8080/",
          "height": 34
        },
        "outputId": "800975fb-07c9-4a2d-c926-3beca2b9d27e"
      },
      "source": [
        "XdataT.shape"
      ],
      "execution_count": null,
      "outputs": [
        {
          "output_type": "execute_result",
          "data": {
            "text/plain": [
              "(10001, 9)"
            ]
          },
          "metadata": {
            "tags": []
          },
          "execution_count": 33
        }
      ]
    },
    {
      "cell_type": "code",
      "metadata": {
        "id": "Kuwj0qPnZ27x",
        "colab_type": "code",
        "colab": {
          "base_uri": "https://localhost:8080/",
          "height": 34
        },
        "outputId": "9e7c7aa3-5ef6-4f07-a1ed-ba7765edc083"
      },
      "source": [
        "Ydata.shape"
      ],
      "execution_count": null,
      "outputs": [
        {
          "output_type": "execute_result",
          "data": {
            "text/plain": [
              "(40001,)"
            ]
          },
          "metadata": {
            "tags": []
          },
          "execution_count": 35
        }
      ]
    },
    {
      "cell_type": "code",
      "metadata": {
        "id": "tx2if5MBZ-1O",
        "colab_type": "code",
        "colab": {
          "base_uri": "https://localhost:8080/",
          "height": 34
        },
        "outputId": "b8a54974-e19d-4af7-eba6-94e61182528c"
      },
      "source": [
        "YdataT.shape"
      ],
      "execution_count": null,
      "outputs": [
        {
          "output_type": "execute_result",
          "data": {
            "text/plain": [
              "(10001,)"
            ]
          },
          "metadata": {
            "tags": []
          },
          "execution_count": 36
        }
      ]
    },
    {
      "cell_type": "code",
      "metadata": {
        "id": "e8URTXZ3asIO",
        "colab_type": "code",
        "colab": {
          "base_uri": "https://localhost:8080/",
          "height": 238
        },
        "outputId": "013302c6-525c-4b8c-a67f-8d6a87fbf564"
      },
      "source": [
        "XdataT"
      ],
      "execution_count": null,
      "outputs": [
        {
          "output_type": "execute_result",
          "data": {
            "text/plain": [
              "array([[1.880000e-04, 1.000000e+00, 5.932700e+04, ..., 2.000000e+00,\n",
              "        2.140000e+02, 2.190507e+06],\n",
              "       [2.380000e-04, 1.000000e+00, 3.665900e+04, ..., 2.000000e+00,\n",
              "        2.140000e+02, 2.190507e+06],\n",
              "       [2.630000e-04, 1.000000e+00, 4.033900e+04, ..., 2.000000e+00,\n",
              "        2.140000e+02, 2.190507e+06],\n",
              "       ...,\n",
              "       [0.000000e+00, 0.000000e+00, 3.575000e+03, ..., 1.000000e+00,\n",
              "        6.200000e+01, 6.871000e+04],\n",
              "       [1.473169e+00, 0.000000e+00, 2.679000e+03, ..., 2.500000e+01,\n",
              "        1.305600e+04, 2.163410e+05],\n",
              "       [4.810000e-04, 1.000000e+00, 1.491000e+03, ..., 2.000000e+00,\n",
              "        3.170000e+02, 2.190507e+06]])"
            ]
          },
          "metadata": {
            "tags": []
          },
          "execution_count": 12
        }
      ]
    },
    {
      "cell_type": "code",
      "metadata": {
        "id": "f-huPG3lauJk",
        "colab_type": "code",
        "colab": {
          "base_uri": "https://localhost:8080/",
          "height": 238
        },
        "outputId": "7d9589d5-e737-4bff-db66-48a60ce3c2f5"
      },
      "source": [
        "Xdata"
      ],
      "execution_count": null,
      "outputs": [
        {
          "output_type": "execute_result",
          "data": {
            "text/plain": [
              "array([[9.7656000e-01, 0.0000000e+00, 2.2540000e+03, ..., 4.0000000e+00,\n",
              "        2.4400000e+02, 6.1105000e+04],\n",
              "       [9.5066800e-01, 0.0000000e+00, 6.4136000e+04, ..., 4.0000000e+00,\n",
              "        2.4400000e+02, 6.1105000e+04],\n",
              "       [1.0069080e+00, 0.0000000e+00, 3.8440000e+03, ..., 4.0000000e+00,\n",
              "        2.7600000e+02, 6.1105000e+04],\n",
              "       ...,\n",
              "       [1.1748079e+01, 0.0000000e+00, 2.3400000e+03, ..., 1.0000000e+01,\n",
              "        1.3260000e+03, 3.5460000e+04],\n",
              "       [4.6680000e-02, 1.0000000e+00, 1.5970000e+03, ..., 2.0000000e+00,\n",
              "        3.2300000e+02, 2.1905070e+06],\n",
              "       [8.9325760e+00, 0.0000000e+00, 1.5500000e+03, ..., 3.0000000e+00,\n",
              "        1.8600000e+02, 6.8710000e+04]])"
            ]
          },
          "metadata": {
            "tags": []
          },
          "execution_count": 13
        }
      ]
    },
    {
      "cell_type": "code",
      "metadata": {
        "id": "V8R_hPG_bGW5",
        "colab_type": "code",
        "colab": {
          "base_uri": "https://localhost:8080/",
          "height": 34
        },
        "outputId": "9b6510d1-c209-4246-949f-3657a0e2d7c3"
      },
      "source": [
        "Ydata"
      ],
      "execution_count": null,
      "outputs": [
        {
          "output_type": "execute_result",
          "data": {
            "text/plain": [
              "array([0, 0, 0, ..., 1, 1, 1])"
            ]
          },
          "metadata": {
            "tags": []
          },
          "execution_count": 14
        }
      ]
    },
    {
      "cell_type": "code",
      "metadata": {
        "id": "EDtXvk4RbIXb",
        "colab_type": "code",
        "colab": {
          "base_uri": "https://localhost:8080/",
          "height": 34
        },
        "outputId": "3a32528f-12b5-439c-8f2f-aa293c79365e"
      },
      "source": [
        "YdataT"
      ],
      "execution_count": null,
      "outputs": [
        {
          "output_type": "execute_result",
          "data": {
            "text/plain": [
              "array([0, 0, 0, ..., 1, 1, 1])"
            ]
          },
          "metadata": {
            "tags": []
          },
          "execution_count": 15
        }
      ]
    },
    {
      "cell_type": "code",
      "metadata": {
        "id": "AocNYso0bK-x",
        "colab_type": "code",
        "colab": {}
      },
      "source": [
        "from sklearn.linear_model import *\n",
        "from sklearn.tree import *\n",
        "from sklearn.naive_bayes import *\n",
        "from sklearn.neighbors import *"
      ],
      "execution_count": null,
      "outputs": []
    },
    {
      "cell_type": "code",
      "metadata": {
        "id": "dwK-IuakbQnF",
        "colab_type": "code",
        "colab": {}
      },
      "source": [
        "class Prepare(threading.Thread):\n",
        "    \n",
        "    def __init__(self, X, Y, XT, YT, accLabel=None):\n",
        "        threading.Thread.__init__(self)\n",
        "        self.X = X\n",
        "        self.Y = Y\n",
        "        self.XT=XT\n",
        "        self.YT=YT\n",
        "        self.accLabel= accLabel\n",
        "\n",
        "    def run(self):\n",
        "        X = np.zeros(self.X.shape)\n",
        "        Y = np.zeros(self.Y.shape)\n",
        "        XT = np.zeros(self.XT.shape)\n",
        "        YT = np.zeros(self.YT.shape)\n",
        "        np.copyto(X, self.X)\n",
        "        np.copyto(Y, self.Y)\n",
        "        np.copyto(XT, self.XT)\n",
        "        np.copyto(YT, self.YT)\n",
        "        for i in range(9):\n",
        "            X[:, i] = (X[:, i] - X[:, i].mean()) / (X[:, i].std()) \n",
        "        for i in range(9):\n",
        "            XT[:, i] = (XT[:, i] - XT[:, i].mean()) / (XT[:, i].std())"
      ],
      "execution_count": null,
      "outputs": []
    },
    {
      "cell_type": "code",
      "metadata": {
        "id": "zBErI_lAbbER",
        "colab_type": "code",
        "colab": {
          "base_uri": "https://localhost:8080/",
          "height": 34
        },
        "outputId": "4a403d1c-a3d2-4343-ef0b-74af021bea8a"
      },
      "source": [
        "Prepare(Xdata,Ydata,XdataT,YdataT)"
      ],
      "execution_count": null,
      "outputs": [
        {
          "output_type": "execute_result",
          "data": {
            "text/plain": [
              "<Prepare(Thread-4, initial)>"
            ]
          },
          "metadata": {
            "tags": []
          },
          "execution_count": 18
        }
      ]
    },
    {
      "cell_type": "code",
      "metadata": {
        "id": "l5uBQpmmblMa",
        "colab_type": "code",
        "colab": {
          "base_uri": "https://localhost:8080/",
          "height": 119
        },
        "outputId": "d1cf3097-3fcf-4e1c-8380-e94db768b3e2"
      },
      "source": [
        "clf = DecisionTreeClassifier()\n",
        "clf.fit(Xdata,Ydata)"
      ],
      "execution_count": null,
      "outputs": [
        {
          "output_type": "execute_result",
          "data": {
            "text/plain": [
              "DecisionTreeClassifier(ccp_alpha=0.0, class_weight=None, criterion='gini',\n",
              "                       max_depth=None, max_features=None, max_leaf_nodes=None,\n",
              "                       min_impurity_decrease=0.0, min_impurity_split=None,\n",
              "                       min_samples_leaf=1, min_samples_split=2,\n",
              "                       min_weight_fraction_leaf=0.0, presort='deprecated',\n",
              "                       random_state=None, splitter='best')"
            ]
          },
          "metadata": {
            "tags": []
          },
          "execution_count": 19
        }
      ]
    },
    {
      "cell_type": "code",
      "metadata": {
        "id": "tqxw_CY0bzSp",
        "colab_type": "code",
        "colab": {
          "base_uri": "https://localhost:8080/",
          "height": 163
        },
        "outputId": "766783aa-1b0b-4160-83df-c1f4017250c2"
      },
      "source": [
        "Prediction = clf.predict(XdataT)\n"
      ],
      "execution_count": null,
      "outputs": [
        {
          "output_type": "error",
          "ename": "NameError",
          "evalue": "ignored",
          "traceback": [
            "\u001b[0;31m---------------------------------------------------------------------------\u001b[0m",
            "\u001b[0;31mNameError\u001b[0m                                 Traceback (most recent call last)",
            "\u001b[0;32m<ipython-input-2-d59a1fcafb18>\u001b[0m in \u001b[0;36m<module>\u001b[0;34m()\u001b[0m\n\u001b[0;32m----> 1\u001b[0;31m \u001b[0mPrediction\u001b[0m \u001b[0;34m=\u001b[0m \u001b[0mclf\u001b[0m\u001b[0;34m.\u001b[0m\u001b[0mpredict\u001b[0m\u001b[0;34m(\u001b[0m\u001b[0mXdataT\u001b[0m\u001b[0;34m)\u001b[0m\u001b[0;34m\u001b[0m\u001b[0;34m\u001b[0m\u001b[0m\n\u001b[0m",
            "\u001b[0;31mNameError\u001b[0m: name 'clf' is not defined"
          ]
        }
      ]
    },
    {
      "cell_type": "code",
      "metadata": {
        "id": "-Vwsz-t5b5DZ",
        "colab_type": "code",
        "colab": {
          "base_uri": "https://localhost:8080/",
          "height": 34
        },
        "outputId": "388ef03e-24a7-4f99-cbac-470164675a3c"
      },
      "source": [
        "Prediction = clf.predict(XdataT)\n",
        "Score = clf.score(XdataT,YdataT)\n",
        "print (\"The Score of the Decision Tree Classifier is\", Score * 100)"
      ],
      "execution_count": null,
      "outputs": [
        {
          "output_type": "stream",
          "text": [
            "The Score of the Decision Tree Classifier is 99.89001099890011\n"
          ],
          "name": "stdout"
        }
      ]
    },
    {
      "cell_type": "code",
      "metadata": {
        "id": "eJGTRA5xcAlo",
        "colab_type": "code",
        "colab": {
          "base_uri": "https://localhost:8080/",
          "height": 34
        },
        "outputId": "65eea48c-b8b0-4580-eccb-192574e0344a"
      },
      "source": [
        "clf = LogisticRegression(C=10000)\n",
        "clf.fit(Xdata,Ydata)\n",
        "Prediction = clf.predict(XdataT)\n",
        "Prediction\n",
        "#Score = clf.score(XdataT,YdataT)"
      ],
      "execution_count": null,
      "outputs": [
        {
          "output_type": "execute_result",
          "data": {
            "text/plain": [
              "array([0, 0, 0, ..., 1, 1, 1])"
            ]
          },
          "metadata": {
            "tags": []
          },
          "execution_count": 46
        }
      ]
    },
    {
      "cell_type": "code",
      "metadata": {
        "id": "WSr5R6VQfGeR",
        "colab_type": "code",
        "colab": {
          "base_uri": "https://localhost:8080/",
          "height": 34
        },
        "outputId": "60010fa5-1007-4b6b-d73c-b3ab40828d81"
      },
      "source": [
        "Score = clf.score(XdataT,YdataT)\n",
        "print (\"The Score of the Logistic Regression Classifier is\", Score * 100)"
      ],
      "execution_count": null,
      "outputs": [
        {
          "output_type": "stream",
          "text": [
            "The Score of the Logistic Regression Classifier is 96.25037496250374\n"
          ],
          "name": "stdout"
        }
      ]
    },
    {
      "cell_type": "markdown",
      "metadata": {
        "id": "2b9dYJFYhG5D",
        "colab_type": "text"
      },
      "source": [
        "**Gaussian Naive Bayes model:**"
      ]
    },
    {
      "cell_type": "code",
      "metadata": {
        "id": "rA_7As-VfMsf",
        "colab_type": "code",
        "colab": {
          "base_uri": "https://localhost:8080/",
          "height": 34
        },
        "outputId": "616f3852-a9dd-4369-8205-f082ceb31d60"
      },
      "source": [
        "clf = GaussianNB()\n",
        "clf.fit(Xdata,Ydata)\n",
        "Prediction = clf.predict(XdataT)\n",
        "Score = clf.score(XdataT,YdataT)\n",
        "print(\"The Score of the Gaussian Naive Bayes classifier is\", Score * 100)"
      ],
      "execution_count": null,
      "outputs": [
        {
          "output_type": "stream",
          "text": [
            "The Score of the Gaussian Naive Bayes classifier is 67.83321667833216\n"
          ],
          "name": "stdout"
        }
      ]
    },
    {
      "cell_type": "code",
      "metadata": {
        "id": "9fDyCA7whCB5",
        "colab_type": "code",
        "colab": {
          "base_uri": "https://localhost:8080/",
          "height": 34
        },
        "outputId": "f3d8cc60-04e2-4b1b-d836-ad7777e3b2af"
      },
      "source": [
        "clf = KNeighborsClassifier()\n",
        "clf.fit(Xdata,Ydata)\n",
        "Prediction = clf.predict(XdataT)\n",
        "Score = clf.score(XdataT,YdataT)\n",
        "print(\"The Score of the K-Nearest Neighbours classifier is\", Score * 100)"
      ],
      "execution_count": null,
      "outputs": [
        {
          "output_type": "stream",
          "text": [
            "The Score of the K-Nearest Neighbours classifier is 96.84031596840316\n"
          ],
          "name": "stdout"
        }
      ]
    },
    {
      "cell_type": "code",
      "metadata": {
        "id": "_3s8fp-HiAz8",
        "colab_type": "code",
        "colab": {}
      },
      "source": [
        ""
      ],
      "execution_count": null,
      "outputs": []
    }
  ]
}